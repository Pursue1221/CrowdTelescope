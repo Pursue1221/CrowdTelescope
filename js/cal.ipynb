{
 "cells": [
  {
   "cell_type": "code",
   "execution_count": 1,
   "metadata": {},
   "outputs": [],
   "source": [
    "import json"
   ]
  },
  {
   "cell_type": "code",
   "execution_count": 3,
   "metadata": {},
   "outputs": [],
   "source": [
    "data1=[{\"chinese\":\"大學會堂\",\"NSWE\":\"N2\",\"lat\":22.1342,\"lon\":113.54551},\n",
    "  {\"chinese\":\"中銀百年紀念大樓\",\"NSWE\":\"E3\",\"lat\":22.12904,\"lon\":113.54585},\n",
    "  {\"chinese\":\"劉少榮樓\",\"NSWE\":\"E4\",\"lat\":22.12861,\"lon\":113.54607},\n",
    "  {\"chinese\":\"中央教學樓\",\"NSWE\":\"E5\",\"lat\": 22.128153711429235,\"lon\": 113.545427982712},\n",
    "  {\"chinese\":\"中央教學樓\",\"NSWE\":\"E6\",\"lat\":22.1286,\"lon\":113.54509},\n",
    "  {\"chinese\":\"中央教學樓\",\"NSWE\":\"E7\",\"lat\":22.12895,\"lon\":113.54514},\n",
    "  {\"chinese\":\"中央行政樓\",\"NSWE\":\"N6\",\"lat\":22.13382,\"lon\":113.54424},\n",
    "  {\"chinese\":\"圖書館\",\"NSWE\":\"E2\",\"lat\":22.13003,\"lon\":113.54486},\n",
    "  {\"chinese\":\"校史展覽廳\",\"NSWE\":\"E1\",\"lat\":22.13094,\"lon\":113.5458},\n",
    "  {\"chinese\":\"體育館\",\"NSWE\":\"N8\",\"lat\":22.13394,\"lon\":113.54261},\n",
    "  {\"chinese\":\"中央商業區\",\"NSWE\":\"S8\",\"lat\":22.12432,\"lon\":113.54448},\n",
    "  {\"chinese\":\"科研大樓\",\"NSWE\":\"N21\",\"lat\":22.1350166,\"lon\":113.5452397},\n",
    "  {\"chinese\":\"應用物理及材料工程研究所\",\"NSWE\":\"N23\",\"lat\":22.13561,\"lon\":113.54527},\n",
    "  {\"chinese\":\"中醫藥科研大樓\",\"NSWE\":\"N22\",\"lat\":22.13505,\"lon\":113.54324},\n",
    "  {\"chinese\":\"聚賢樓 \",\"NSWE\":\"N1\",\"lat\":22.13369,\"lon\":113.54554},\n",
    "  {\"chinese\":\"學生活動中心\",\"NSWE\":\"E31\",\"lat\":22.12692,\"lon\":113.54412},\n",
    "  {\"chinese\":\"教育學院\",\"NSWE\":\"E33\",\"lat\":22.12584,\"lon\":113.54415},\n",
    "  {\"chinese\":\"健康科學學院\",\"NSWE\":\"E12\",\"lat\":22.13087,\"lon\":113.54323},\n",
    "  {\"chinese\":\"法學院\",\"NSWE\":\"E32\",\"lat\":22.12638,\"lon\":113.5438},\n",
    "  {\"chinese\":\"科技學院\",\"NSWE\":\"E11\",\"lat\":22.13239,\"lon\":113.54325},\n",
    "  {\"chinese\":\"商學院\",\"NSWE\":\"E22\",\"lat\":22.12815,\"lon\":113.54315},\n",
    "  {\"chinese\":\"社會科學學院\",\"NSWE\":\"E21B\",\"lat\":22.12896,\"lon\":113.54292},\n",
    "  {\"chinese\":\"人文學院\",\"NSWE\":\"E21A\",\"lat\":22.12955,\"lon\":113.543},\n",
    "  {\"chinese\":\"設計學院\",\"NSWE\":\"E34\",\"lat\":22.12529,\"lon\":113.54361},\n",
    "  {\"chinese\":\"蔡繼有書院 \",\"NSWE\":\"W12\",\"lat\":22.13223,\"lon\":113.54118},\n",
    "  {\"chinese\":\"滿珍紀念 \",\"NSWE\":\"W11\",\"lat\":22.13231,\"lon\":113.54185},\n",
    "  {\"chinese\":\"霍英東珍禧書院 \",\"NSWE\":\"W14\",\"lat\":22.13117,\"lon\":113.54108},\n",
    "  {\"chinese\":\"何鴻燊東亞書院\",\"NSWE\":\"W13\",\"lat\":22.13141,\"lon\":113.54186},\n",
    "  {\"chinese\":\"呂志和書院\",\"NSWE\":\"W22\",\"lat\":22.12938,\"lon\":113.54113},\n",
    "  {\"chinese\":\"曹光彪書院\",\"NSWE\":\"W21\",\"lat\":22.1294,\"lon\":113.54164},\n",
    "  {\"chinese\":\"鄭裕彤書院\",\"NSWE\":\"W23\",\"lat\":22.12822,\"lon\":113.54138},\n",
    "  {\"chinese\":\"張崑崙書院\",\"NSWE\":\"W34\",\"lat\":22.12552,\"lon\":113.54162},\n",
    "  {\"chinese\":\"馬萬祺羅柏心書院\",\"NSWE\":\"W33\",\"lat\":22.12542,\"lon\":113.5424},\n",
    "  {\"chinese\":\"紹邦書院\",\"NSWE\":\"S9\",\"lat\":22.12436,\"lon\":113.5436},\n",
    "  {\"chinese\":\"研究生宿舍\",\"NSWE\":\"S1\",\"lat\":22.12488,\"lon\":113.54597},\n",
    "  {\"chinese\":\"研究生宿舍\",\"NSWE\":\"S2\",\"lat\":22.12444,\"lon\":113.54505},\n",
    "  {\"chinese\":\"研究生宿舍\",\"NSWE\":\"S3\",\"lat\":22.12372,\"lon\":113.54559},\n",
    "  {\"chinese\":\"研究生宿舍\",\"NSWE\":\"S4\",\"lat\":22.12377,\"lon\":113.54481},\n",
    "  {\"chinese\":\"教職員宿舍\",\"NSWE\":\"S26\",\"lat\":22.12301,\"lon\":113.54383},\n",
    "  {\"chinese\":\"教職員宿舍\",\"NSWE\":\"S25\",\"lat\":22.12298,\"lon\":113.54421},\n",
    "  {\"chinese\":\"教職員宿舍\",\"NSWE\":\"S24\",\"lat\":22.12298,\"lon\":113.5447},\n",
    "  {\"chinese\":\"教職員宿舍\",\"NSWE\":\"S23\",\"lat\":22.12298,\"lon\":113.54504},\n",
    "  {\"chinese\":\"教職員宿舍\",\"NSWE\":\"S22\",\"lat\":22.12299,\"lon\":113.54547},\n",
    "  {\"chinese\":\"教職員宿舍\",\"NSWE\":\"S21\",\"lat\":22.12299,\"lon\":113.54584},\n",
    "  {\"chinese\":\"教職員宿舍\",\"NSWE\":\"S29\",\"lat\":22.12196,\"lon\":113.54592},\n",
    "  {\"chinese\":\"教職員宿舍\",\"NSWE\":\"S30\",\"lat\":22.12197,\"lon\":113.54557},\n",
    "  {\"chinese\":\"教職員宿舍\",\"NSWE\":\"S36\",\"lat\":22.12144,\"lon\":113.54595},\n",
    "  {\"chinese\":\"教職員宿舍\",\"NSWE\":\"S31\",\"lat\":22.12142,\"lon\":113.54555},\n",
    "  {\"chinese\":\"教職員宿舍\",\"NSWE\":\"S28\",\"lat\":22.12247,\"lon\":113.54592},\n",
    "  {\"chinese\":\"教職員宿舍\",\"NSWE\":\"S35\",\"lat\":22.12248,\"lon\":113.54385}]"
   ]
  },
  {
   "cell_type": "code",
   "execution_count": 4,
   "metadata": {},
   "outputs": [],
   "source": [
    "data11=[]\n",
    "for item in data1:\n",
    "    data11.append({\"lat\":item[\"lat\"],\"lon\":item[\"lon\"]})"
   ]
  },
  {
   "cell_type": "code",
   "execution_count": 6,
   "metadata": {},
   "outputs": [],
   "source": [
    "from operator import index\n",
    "from matplotlib.font_manager import json_dump\n",
    "\n",
    "newdata=[]\n",
    "with open('data.js') as f:\n",
    "    for line in f.readlines():\n",
    "        data0=json.loads(line[11:])\n",
    "        tmp=[]\n",
    "        sizes=[]\n",
    "        for item in data0:\n",
    "            tmp.append({\"lat\":item[\"lat\"],\"lon\":item[\"lon\"]})\n",
    "            sizes.append(item[\"size\"])\n",
    "        for item in data11:\n",
    "            if item not in tmp:\n",
    "                itmp=item\n",
    "                itmp['size']=5\n",
    "                data0.append(itmp)\n",
    "            else:\n",
    "                ind=tmp.index(item)\n",
    "                if sizes[ind] <5:\n",
    "                    data0[ind]['size']=5\n",
    "        JsonStr = line[:11]+json.dumps( data0, ensure_ascii=False) \n",
    "        newdata.append(JsonStr)\n",
    "\n",
    "with open('newdata.js','w') as f:\n",
    "    for item in newdata:\n",
    "        f.write(item)\n",
    "        f.write('\\n')"
   ]
  },
  {
   "cell_type": "code",
   "execution_count": null,
   "metadata": {},
   "outputs": [],
   "source": []
  }
 ],
 "metadata": {
  "kernelspec": {
   "display_name": "Python 3.7.13 ('py37')",
   "language": "python",
   "name": "python3"
  },
  "language_info": {
   "codemirror_mode": {
    "name": "ipython",
    "version": 3
   },
   "file_extension": ".py",
   "mimetype": "text/x-python",
   "name": "python",
   "nbconvert_exporter": "python",
   "pygments_lexer": "ipython3",
   "version": "3.7.13"
  },
  "orig_nbformat": 4,
  "vscode": {
   "interpreter": {
    "hash": "fb5ee792ad8245fbce8697fbcfc830c28ff6579eb8c023281110dfe85393e3bb"
   }
  }
 },
 "nbformat": 4,
 "nbformat_minor": 2
}
